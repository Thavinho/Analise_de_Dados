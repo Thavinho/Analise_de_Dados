{
 "cells": [
  {
   "cell_type": "markdown",
   "id": "f9c1d667-3bd6-4abc-8521-1ffe4ccfe3d9",
   "metadata": {},
   "source": [
    "1- Faça um programa para a leitura de duas notas parciais de um aluno. O programa deve calcular a média alcançada por aluno e apresentar:\n",
    "- A mensagem \"Aprovado\", se a média alcançada for maior ou igual a 7;\n",
    "- A mensagem \"Reprovado\", se a média for menor do que 7;\n",
    "- A mensagem \"Aprovado com Distinção\", se a média for igual a 10."
   ]
  },
  {
   "cell_type": "code",
   "execution_count": 2,
   "id": "2d22bf2e-4933-4889-96b6-d3d156138b16",
   "metadata": {},
   "outputs": [
    {
     "name": "stdout",
     "output_type": "stream",
     "text": [
      "Informe a primeira nota do aluno:\n"
     ]
    },
    {
     "name": "stdin",
     "output_type": "stream",
     "text": [
      " 8.5\n"
     ]
    },
    {
     "name": "stdout",
     "output_type": "stream",
     "text": [
      "Informe a primeira nota do aluno:\n"
     ]
    },
    {
     "name": "stdin",
     "output_type": "stream",
     "text": [
      " 7.5\n"
     ]
    },
    {
     "name": "stdout",
     "output_type": "stream",
     "text": [
      "__________________________\n",
      "A média das notas é: 8.0\n",
      "Aprovado!\n"
     ]
    }
   ],
   "source": [
    "print(\"Informe a primeira nota do aluno:\")\n",
    "nota1 = float(input())\n",
    "print(\"Informe a primeira nota do aluno:\")\n",
    "nota2 = float(input())\n",
    "media = (nota1 + nota2)/2\n",
    "\n",
    "print(\"__________________________\")\n",
    "print(\"A média das notas é: {}\".format(media))\n",
    "\n",
    "if media == 10:\n",
    "    print(\"Parabéns! Aprovado com distinção!\")\n",
    "\n",
    "elif media >= 7:\n",
    "    print(\"Aprovado!\")\n",
    "else: \n",
    "    print(\"Reprovado!\")"
   ]
  },
  {
   "cell_type": "markdown",
   "id": "c6a8fb9f-6ad3-4552-a684-3c398030d1b6",
   "metadata": {},
   "source": [
    "2- Escreva um script que leia três números e mostre o maior e o menor deles."
   ]
  },
  {
   "cell_type": "code",
   "execution_count": 3,
   "id": "24ebb746-c6da-4c78-a89a-f834b6754a36",
   "metadata": {},
   "outputs": [
    {
     "name": "stdout",
     "output_type": "stream",
     "text": [
      "Informe o 1º número: \n"
     ]
    },
    {
     "name": "stdin",
     "output_type": "stream",
     "text": [
      " 7\n"
     ]
    },
    {
     "name": "stdout",
     "output_type": "stream",
     "text": [
      "Informe o 2º número: \n"
     ]
    },
    {
     "name": "stdin",
     "output_type": "stream",
     "text": [
      " 9\n"
     ]
    },
    {
     "name": "stdout",
     "output_type": "stream",
     "text": [
      "Informe o 3º número: \n"
     ]
    },
    {
     "name": "stdin",
     "output_type": "stream",
     "text": [
      " 1\n"
     ]
    },
    {
     "name": "stdout",
     "output_type": "stream",
     "text": [
      "O número maior é: 9\n",
      "O número menor é: 1\n"
     ]
    }
   ],
   "source": [
    "lista_nums = []\n",
    "for i in range(3):\n",
    "    print(\"Informe o {}º número: \".format(i + 1))\n",
    "    x = int(input())\n",
    "    lista_nums.append(x)\n",
    "\n",
    "lista_nums.sort()\n",
    "print(\"O número maior é: {}\".format(lista_nums[-1]))\n",
    "print(\"O número menor é: {}\".format(lista_nums[0]))"
   ]
  },
  {
   "cell_type": "markdown",
   "id": "fc1e281c-9d99-453e-9330-db648c55b4a5",
   "metadata": {},
   "source": [
    "3- Nome na vertical em escada. \n",
    "\n",
    "F<br>\n",
    "FU<br>\n",
    "FUL<br>\n",
    "FULA<br>\n",
    "FULAN<br>\n",
    "FULANO<br>"
   ]
  },
  {
   "cell_type": "code",
   "execution_count": 4,
   "id": "707216c3-e903-4893-b37e-eb6d404d03d4",
   "metadata": {},
   "outputs": [
    {
     "name": "stdout",
     "output_type": "stream",
     "text": [
      "Diga o seu nome: \n"
     ]
    },
    {
     "name": "stdin",
     "output_type": "stream",
     "text": [
      " Gusthavo\n"
     ]
    },
    {
     "name": "stdout",
     "output_type": "stream",
     "text": [
      "\n",
      "G\n",
      "Gu\n",
      "Gus\n",
      "Gust\n",
      "Gusth\n",
      "Gustha\n",
      "Gusthav\n",
      "Gusthavo\n"
     ]
    }
   ],
   "source": [
    "print(\"Diga o seu nome: \")\n",
    "nome = input()\n",
    "\n",
    "for i in range(len(nome) + 1):\n",
    "    print(nome[:i])"
   ]
  },
  {
   "cell_type": "markdown",
   "id": "7a2838c5-8f24-4fde-a697-10cee674fde5",
   "metadata": {},
   "source": [
    "4- A série de Fibonacci é formada pela seqüência 1,1,2,3,5,8,13,21,34,55,... (o próximo termo, a partir do terceiro, é sempre gerado a partir do somatório dos últimos dois). Faça um programa capaz de gerar a série até o n−ésimo termo (onde o valor n deve ser inserido pelo usuário)."
   ]
  },
  {
   "cell_type": "code",
   "execution_count": 5,
   "id": "601473f9-a0e3-48db-ab9f-3787923083eb",
   "metadata": {},
   "outputs": [
    {
     "name": "stdout",
     "output_type": "stream",
     "text": [
      "Qual o tamanho da sequência de fibonacci você deseja visualizar?\n"
     ]
    },
    {
     "name": "stdin",
     "output_type": "stream",
     "text": [
      " 6\n"
     ]
    },
    {
     "name": "stdout",
     "output_type": "stream",
     "text": [
      "1\n",
      "1\n",
      "2\n",
      "3\n",
      "5\n",
      "8\n",
      "13\n",
      "21\n"
     ]
    }
   ],
   "source": [
    "print(\"Qual o tamanho da sequência de fibonacci você deseja visualizar?\")\n",
    "n = int(input())\n",
    "\n",
    "v0 = 0\n",
    "v1 = 1\n",
    "v = 1\n",
    "\n",
    "print(1)\n",
    "for i in range(n+1):\n",
    "    print(v)\n",
    "    v0 = v1\n",
    "    v1 = v\n",
    "    v = v1 + v0"
   ]
  },
  {
   "cell_type": "markdown",
   "id": "ab3eed88-a118-4770-81c9-6c924a18a84f",
   "metadata": {},
   "source": [
    "5- Faça um programa que leia e valide as seguintes informações:\n",
    "- Nome: maior que 3 caracteres;\n",
    "- Idade: entre 0 e 150;\n",
    "- Salário: maior que zero;\n",
    "- Sexo: 'Feminino' ou 'Masculino';\n",
    "- Estado Civil: 'Solteiro', 'Casado', 'Viuvo', 'Divorciado';"
   ]
  },
  {
   "cell_type": "code",
   "execution_count": 6,
   "id": "c2ecfb40-191a-4caa-864e-4353c6746b23",
   "metadata": {},
   "outputs": [
    {
     "name": "stdout",
     "output_type": "stream",
     "text": [
      "Informe o nome:\n"
     ]
    },
    {
     "name": "stdin",
     "output_type": "stream",
     "text": [
      " Luiz\n"
     ]
    },
    {
     "name": "stdout",
     "output_type": "stream",
     "text": [
      "Informe a idade:\n"
     ]
    },
    {
     "name": "stdin",
     "output_type": "stream",
     "text": [
      " 30\n"
     ]
    },
    {
     "name": "stdout",
     "output_type": "stream",
     "text": [
      "Informe o salário:\n"
     ]
    },
    {
     "name": "stdin",
     "output_type": "stream",
     "text": [
      " 1500\n"
     ]
    },
    {
     "name": "stdout",
     "output_type": "stream",
     "text": [
      "Informe o sexo:\n"
     ]
    },
    {
     "name": "stdin",
     "output_type": "stream",
     "text": [
      " Masculino\n"
     ]
    },
    {
     "name": "stdout",
     "output_type": "stream",
     "text": [
      "Informe o estado civil:\n"
     ]
    },
    {
     "name": "stdin",
     "output_type": "stream",
     "text": [
      " Solteiro\n"
     ]
    }
   ],
   "source": [
    "print(\"Informe o nome:\")\n",
    "nome = input()\n",
    "while len(nome) <= 3:\n",
    "    print(\"O nome deve conter mais de 3 caracteres.\")\n",
    "    print(\"Informe o nome:\")\n",
    "    nome = input()\n",
    "    \n",
    "print(\"Informe a idade:\")\n",
    "idade = int(input())\n",
    "while (idade <= 0) or (idade >= 150):\n",
    "    print(\"A idade deve estar entre 0 e 150\")\n",
    "    print(\"Informe a idade:\")\n",
    "    idade = int(input())\n",
    "    \n",
    "print(\"Informe o salário:\")\n",
    "salario = int(input())\n",
    "while (salario <= 0):\n",
    "    print(\"A salario deve ser maior que zero.\")\n",
    "    print(\"Informe o salário:\")\n",
    "    salario = int(input())\n",
    "    \n",
    "print(\"Informe o sexo:\")\n",
    "sexo = input()\n",
    "while sexo not in [\"Feminino\", \"Masculino\"]:\n",
    "    print(\"O sexo deve ser 'Feminino' ou 'Masculino'\")\n",
    "    print(\"Informe o sexo:\")\n",
    "    sexo = input()\n",
    "\n",
    "print(\"Informe o estado civil:\")\n",
    "estado_civil = input()\n",
    "while estado_civil not in ['Solteiro', 'Casado', 'Viuvo', 'Divorciado']:\n",
    "    print(\"O estado civil deve ser 'Solteiro', 'Casado', 'Viuvo', 'Divorciado'\")\n",
    "    print(\"Informe o estado civil:\")\n",
    "    estado_civil = input()"
   ]
  },
  {
   "cell_type": "markdown",
   "id": "0297d51f-050d-414e-8e2d-eaa61802372f",
   "metadata": {},
   "source": [
    "6- Faça um programa que peça um número inteiro e determine se ele é ou não um número primo. Um número primo é aquele que é divisível somente por ele mesmo e por 1. "
   ]
  },
  {
   "cell_type": "code",
   "execution_count": 8,
   "id": "535fe495-5557-4b3d-a361-5ade75a95b30",
   "metadata": {},
   "outputs": [
    {
     "name": "stdout",
     "output_type": "stream",
     "text": [
      "Informe qualquer número:\n"
     ]
    },
    {
     "name": "stdin",
     "output_type": "stream",
     "text": [
      " 19\n"
     ]
    },
    {
     "name": "stdout",
     "output_type": "stream",
     "text": [
      "Não é primo\n"
     ]
    }
   ],
   "source": [
    "print(\"Informe qualquer número:\")\n",
    "numero = int(input())\n",
    "\n",
    "check = 0\n",
    "\n",
    "for i in range(2, numero):\n",
    "    if n % i == 0:\n",
    "        check = 1\n",
    "        break\n",
    "    \n",
    "if check == 0:\n",
    "    print(\"É primo\")\n",
    "else:\n",
    "    print(\"Não é primo\")"
   ]
  },
  {
   "cell_type": "code",
   "execution_count": null,
   "id": "de72235c-93b0-4981-8d69-fdedad016d5c",
   "metadata": {},
   "outputs": [],
   "source": []
  }
 ],
 "metadata": {
  "kernelspec": {
   "display_name": "Python 3 (ipykernel)",
   "language": "python",
   "name": "python3"
  },
  "language_info": {
   "codemirror_mode": {
    "name": "ipython",
    "version": 3
   },
   "file_extension": ".py",
   "mimetype": "text/x-python",
   "name": "python",
   "nbconvert_exporter": "python",
   "pygments_lexer": "ipython3",
   "version": "3.9.13"
  }
 },
 "nbformat": 4,
 "nbformat_minor": 5
}

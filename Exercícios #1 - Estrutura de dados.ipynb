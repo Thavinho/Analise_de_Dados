{
 "cells": [
  {
   "cell_type": "markdown",
   "metadata": {},
   "source": [
    "<img src=\"https://asimov.academy/wp-content/uploads/2021/01/logo.png\" width=\"200\"/>\n",
    "_____________________________________________\n",
    "\n",
    "## Exercícios #1 - Estruturas de dados\n"
   ]
  },
  {
   "cell_type": "markdown",
   "metadata": {},
   "source": [
    "### Exercício 1\n",
    "Utilizando o built-in method input(), crie um programa que receba a altura e o peso de uma pessoa e imprima na tela o IMC da mesma."
   ]
  },
  {
   "cell_type": "code",
   "execution_count": 2,
   "metadata": {},
   "outputs": [
    {
     "name": "stdout",
     "output_type": "stream",
     "text": [
      "Calculadora de IMC\n",
      "Informe a Altura\n",
      "Informe seu Peso\n",
      "Seu IMC é: 43.34\n"
     ]
    }
   ],
   "source": [
    "print(\"Calculadora de IMC\")\n",
    "print(\"Informe a Altura\")\n",
    "altura = float(input())\n",
    "\n",
    "print('Informe seu Peso')\n",
    "peso = float(input())\n",
    "\n",
    "print(\"Seu IMC é: {:.2f}\".format(peso / altura **2))\n"
   ]
  },
  {
   "cell_type": "markdown",
   "metadata": {},
   "source": [
    "### Exercício 2 \n",
    "Escreva um programa que pergunte o nome completo do usuário e cumprimente o mesmo pelo primeiro nome."
   ]
  },
  {
   "cell_type": "code",
   "execution_count": 4,
   "metadata": {},
   "outputs": [
    {
     "name": "stdout",
     "output_type": "stream",
     "text": [
      "Qual o seu nome completo?\n",
      "Olá, Gusthavo.\n"
     ]
    }
   ],
   "source": [
    "print(\"Qual o seu nome completo?\")\n",
    "nome = input()\n",
    "primeiro_nome = nome.split()[0]\n",
    "print(\"Olá, {}.\".format(primeiro_nome))"
   ]
  },
  {
   "cell_type": "markdown",
   "metadata": {},
   "source": [
    "### Exercício 3\n",
    "Desenho um código que extraia o domínio de um e-mail informado."
   ]
  },
  {
   "cell_type": "code",
   "execution_count": 6,
   "metadata": {},
   "outputs": [
    {
     "name": "stdout",
     "output_type": "stream",
     "text": [
      "Informe um e-mail: \n",
      "O domínio que foi informado foi: gmail.com.\n"
     ]
    }
   ],
   "source": [
    "print(\"Informe um e-mail: \")\n",
    "email = input()\n",
    "dominio = email.split(\"@\")[-1]\n",
    "print(\"O domínio que foi informado foi: {}.\".format(dominio))"
   ]
  },
  {
   "cell_type": "markdown",
   "metadata": {},
   "source": [
    "### Exercício 4 \n",
    "Faça um programa para uma loja de tintas. A pessoa informa a área em m2 que deseja pintar, e o script calculará a quantidade de latas de tinta que a pessoa deve comprar e o valor. Considere que cada litro de tinta pinta 3m2, que cada lata contém 18L e que custa R$ 80."
   ]
  },
  {
   "cell_type": "code",
   "execution_count": 9,
   "metadata": {},
   "outputs": [
    {
     "name": "stdout",
     "output_type": "stream",
     "text": [
      "Bem Vindo, qual a área que você vai pintar?:  \n",
      "Você vai precisar de: 46 latas e elas custaram 3680 reais\n"
     ]
    }
   ],
   "source": [
    "print(\"Bem Vindo, qual a área que você vai pintar?:  \")\n",
    "area = float(input())\n",
    "\n",
    "volume_desejado = area/3\n",
    "latas = int(volume_desejado /18)\n",
    "valor = latas * 80\n",
    "\n",
    "print(\"Você vai precisar de: {} latas e elas custaram {} reais\".format(latas, valor))"
   ]
  },
  {
   "cell_type": "markdown",
   "metadata": {},
   "source": [
    "### Exercício 5\n",
    "Faça um Programa que pergunte quanto você ganha por hora e o número de horas trabalhadas no mês. Calcule e mostre o total do seu salário no referido mês, sabendo-se que são descontados 11% para o Imposto de Renda, 8% para o INSS e 5% para o sindicato, faça um programa que nos dê:\n",
    "1. Salário bruto.\n",
    "2. Quanto pagou ao INSS.\n",
    "3. Quanto pagou ao sindicato.\n",
    "4. O salário líquido."
   ]
  },
  {
   "cell_type": "code",
   "execution_count": 10,
   "metadata": {},
   "outputs": [
    {
     "name": "stdout",
     "output_type": "stream",
     "text": [
      "Calculadora de salário.\n",
      "Informe o quanto você ganha por hora: \n",
      "Informe quantas horas trabalhadas no mês: \n",
      " Salário Bruto: R$ 7500.00\n",
      " Valor de Imposto de Renda: R$ 825.00\n",
      " Valor de INSS: R$ 534.00\n",
      " Valor de Sindicato: R$ 307.05\n",
      " Salário Líquido: R$ 5833.95\n"
     ]
    }
   ],
   "source": [
    "print(\"Calculadora de salário.\")\n",
    "print(\"Informe o quanto você ganha por hora: \")\n",
    "valor_hora = float(input())\n",
    "\n",
    "print(\"Informe quantas horas trabalhadas no mês: \")\n",
    "horas_trabalhadas = float(input())\n",
    "\n",
    "salario = valor_hora * horas_trabalhadas\n",
    "imposto_de_renda = salario * 0.11\n",
    "inss = (salario - imposto_de_renda) * 0.08\n",
    "sindicato = (salario - imposto_de_renda - inss) * 0.05\n",
    "\n",
    "print(\" Salário Bruto: R$ {:.2f}\".format(salario))\n",
    "print(\" Valor de Imposto de Renda: R$ {:.2f}\".format(imposto_de_renda))\n",
    "print(\" Valor de INSS: R$ {:.2f}\".format(inss))\n",
    "print(\" Valor de Sindicato: R$ {:.2f}\".format(sindicato))\n",
    "print(\" Salário Líquido: R$ {:.2f}\".format(salario - imposto_de_renda - inss - sindicato))\n",
    "\n",
    "\n"
   ]
  },
  {
   "cell_type": "code",
   "execution_count": null,
   "metadata": {},
   "outputs": [],
   "source": []
  }
 ],
 "metadata": {
  "kernelspec": {
   "display_name": "Python 3",
   "language": "python",
   "name": "python3"
  },
  "language_info": {
   "codemirror_mode": {
    "name": "ipython",
    "version": 3
   },
   "file_extension": ".py",
   "mimetype": "text/x-python",
   "name": "python",
   "nbconvert_exporter": "python",
   "pygments_lexer": "ipython3",
   "version": "3.11.1"
  },
  "vscode": {
   "interpreter": {
    "hash": "351937ebb8e5d45cc2abc2299520bd3a77e239bd70f7c9a1b6753bfd05bd836e"
   }
  }
 },
 "nbformat": 4,
 "nbformat_minor": 4
}
